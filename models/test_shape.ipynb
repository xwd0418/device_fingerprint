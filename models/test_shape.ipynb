{
 "cells": [
  {
   "cell_type": "code",
   "execution_count": 1,
   "metadata": {},
   "outputs": [],
   "source": [
    "from PL_MMD_AAE import *\n",
    "import json\n",
    "exp_name = 'MMD_AAE/v1'\n",
    "exp_name = 'resnet/resnet18_v1'\n",
    "f = open(f'/root/configs/'+ exp_name + '.json')\n",
    "        # f = open(f'/root/autoencoder_denoiser/configs_baseline_selection/'+ name + '.json')\n",
    "        # global config\n",
    "        \n",
    "config = json.load(f)\n",
    "model = MMD_AAE(config)\n",
    "\n",
    "input = torch.rand([16,2,256])"
   ]
  },
  {
   "cell_type": "code",
   "execution_count": 2,
   "metadata": {},
   "outputs": [],
   "source": [
    "# model.encoder.avgpool = nn.AdaptiveAvgPool1d(output_size=1)"
   ]
  },
  {
   "cell_type": "code",
   "execution_count": 3,
   "metadata": {},
   "outputs": [
    {
     "data": {
      "text/plain": [
       "torch.Size([16, 512, 8])"
      ]
     },
     "execution_count": 3,
     "metadata": {},
     "output_type": "execute_result"
    }
   ],
   "source": [
    "logit, output_feature = model(input, feat = True)\n",
    "output_feature.shape"
   ]
  },
  {
   "attachments": {},
   "cell_type": "markdown",
   "metadata": {},
   "source": []
  },
  {
   "cell_type": "code",
   "execution_count": 4,
   "metadata": {},
   "outputs": [],
   "source": [
    "from  model_factory import *\n",
    "# up1 = Up(in_channels=512, out_channels= 256, linear= True)\n",
    "# f1 = up1(output_feature)\n",
    "decoder = Decoder(256, 2, True)"
   ]
  },
  {
   "cell_type": "code",
   "execution_count": 5,
   "metadata": {},
   "outputs": [
    {
     "data": {
      "text/plain": [
       "torch.Size([16, 2, 256])"
      ]
     },
     "execution_count": 5,
     "metadata": {},
     "output_type": "execute_result"
    }
   ],
   "source": [
    "f1 = decoder(output_feature)\n",
    "f1.shape"
   ]
  },
  {
   "cell_type": "code",
   "execution_count": 6,
   "metadata": {},
   "outputs": [
    {
     "ename": "NameError",
     "evalue": "name 'up1' is not defined",
     "output_type": "error",
     "traceback": [
      "\u001b[0;31m---------------------------------------------------------------------------\u001b[0m",
      "\u001b[0;31mNameError\u001b[0m                                 Traceback (most recent call last)",
      "\u001b[0;32m/tmp/ipykernel_52152/2678017477.py\u001b[0m in \u001b[0;36m<module>\u001b[0;34m\u001b[0m\n\u001b[0;32m----> 1\u001b[0;31m \u001b[0mf2\u001b[0m \u001b[0;34m=\u001b[0m \u001b[0mup1\u001b[0m\u001b[0;34m.\u001b[0m\u001b[0mconv\u001b[0m\u001b[0;34m.\u001b[0m\u001b[0mdouble_conv\u001b[0m\u001b[0;34m(\u001b[0m\u001b[0mf1\u001b[0m\u001b[0;34m)\u001b[0m\u001b[0;34m\u001b[0m\u001b[0;34m\u001b[0m\u001b[0m\n\u001b[0m",
      "\u001b[0;31mNameError\u001b[0m: name 'up1' is not defined"
     ]
    }
   ],
   "source": [
    "f2 = up1.conv.double_conv(f1)"
   ]
  },
  {
   "cell_type": "code",
   "execution_count": null,
   "metadata": {},
   "outputs": [],
   "source": [
    "f2.shape"
   ]
  },
  {
   "cell_type": "code",
   "execution_count": null,
   "metadata": {},
   "outputs": [],
   "source": [
    "up1"
   ]
  },
  {
   "cell_type": "code",
   "execution_count": 5,
   "metadata": {},
   "outputs": [
    {
     "name": "stdout",
     "output_type": "stream",
     "text": [
      "sdf\n"
     ]
    }
   ],
   "source": [
    "a = 0.23423\n",
    "if a:\n",
    "    print(\"sdf\")"
   ]
  },
  {
   "cell_type": "code",
   "execution_count": 15,
   "metadata": {},
   "outputs": [
    {
     "data": {
      "text/plain": [
       "array([[0.00193045, 0.04393693, 0.00193045],\n",
       "       [0.04393693, 1.        , 0.04393693],\n",
       "       [0.00193045, 0.04393693, 0.00193045]])"
      ]
     },
     "execution_count": 15,
     "metadata": {},
     "output_type": "execute_result"
    }
   ],
   "source": [
    "import np as np\n",
    "def fspecial_gauss(size, sigma):\n",
    "\n",
    "    \"\"\"Function to mimic the 'fspecial' gaussian MATLAB function\n",
    "    \"\"\"\n",
    "\n",
    "    x, y = np.mgrid[-size//2 + 1:size//2 + 1, -size//2 + 1:size//2 + 1]\n",
    "    g = np.exp(-((x**2 + y**2)/(2.0*sigma**2)))\n",
    "    return g\n",
    "fspecial_gauss(3, 0.4)"
   ]
  },
  {
   "cell_type": "code",
   "execution_count": 3,
   "metadata": {},
   "outputs": [
    {
     "data": {
      "text/plain": [
       "array([[0.07511361, 0.1238414 , 0.07511361],\n",
       "       [0.1238414 , 0.20417996, 0.1238414 ],\n",
       "       [0.07511361, 0.1238414 , 0.07511361]])"
      ]
     },
     "execution_count": 3,
     "metadata": {},
     "output_type": "execute_result"
    }
   ],
   "source": []
  },
  {
   "cell_type": "code",
   "execution_count": 6,
   "metadata": {},
   "outputs": [
    {
     "data": {
      "text/plain": [
       "tensor([[[[0.2239, 0.0379, 0.2276],\n",
       "          [0.5059, 0.0491, 0.8847],\n",
       "          [0.7270, 0.9974, 0.7017]]],\n",
       "\n",
       "\n",
       "        [[[0.3196, 0.6913, 0.9985],\n",
       "          [0.5852, 0.5522, 0.3204],\n",
       "          [0.5309, 0.8884, 0.2540]]],\n",
       "\n",
       "\n",
       "        [[[0.9782, 0.5833, 0.5246],\n",
       "          [0.9165, 0.0190, 0.7923],\n",
       "          [0.2905, 0.0981, 0.8100]]],\n",
       "\n",
       "\n",
       "        [[[0.0870, 0.2357, 0.6431],\n",
       "          [0.6904, 0.8649, 0.6228],\n",
       "          [0.4813, 0.7829, 0.7411]]]])"
      ]
     },
     "execution_count": 6,
     "metadata": {},
     "output_type": "execute_result"
    }
   ],
   "source": [
    "import torchvision, torch\n",
    "num_channels = 1\n",
    "conv = torchvision.ops.DeformConv2d(in_channels=num_channels, out_channels=num_channels, kernel_size=3, padding=1)\n",
    "a = torch.rand((4,1,3,3))\n",
    "a.shape"
   ]
  },
  {
   "cell_type": "code",
   "execution_count": 9,
   "metadata": {},
   "outputs": [
    {
     "data": {
      "text/plain": [
       "torch.Size([4, 1, 3, 3])"
      ]
     },
     "execution_count": 9,
     "metadata": {},
     "output_type": "execute_result"
    }
   ],
   "source": [
    "# offset = torch.tensor([\n",
    "#     [0,0,0],\n",
    "#     [0,0,0],\n",
    "#     [0,0,0]\n",
    "# ])\n",
    "offset = torch.rand((4,2*3*3,3,3))\n",
    "conv(a, offset=offset,).shape"
   ]
  },
  {
   "cell_type": "code",
   "execution_count": 19,
   "metadata": {},
   "outputs": [],
   "source": [
    "import numpy as np\n",
    "import scipy.fftpack\n",
    "\n",
    "\n",
    "def fftind(size):\n",
    "    \"\"\" Returns a np array of shifted Fourier coordinates k_x k_y.\n",
    "        \n",
    "        Input args:\n",
    "            size (integer): The size of the coordinate array to create\n",
    "        Returns:\n",
    "            k_ind, np array of shape (2, size, size) with:\n",
    "                k_ind[0,:,:]:  k_x components\n",
    "                k_ind[1,:,:]:  k_y components\n",
    "                \n",
    "        Example:\n",
    "        \n",
    "            print(fftind(5))\n",
    "            \n",
    "            [[[ 0  1 -3 -2 -1]\n",
    "            [ 0  1 -3 -2 -1]\n",
    "            [ 0  1 -3 -2 -1]\n",
    "            [ 0  1 -3 -2 -1]\n",
    "            [ 0  1 -3 -2 -1]]\n",
    "\n",
    "            [[ 0  0  0  0  0]\n",
    "            [ 1  1  1  1  1]\n",
    "            [-3 -3 -3 -3 -3]\n",
    "            [-2 -2 -2 -2 -2]\n",
    "            [-1 -1 -1 -1 -1]]]\n",
    "            \n",
    "        \"\"\"\n",
    "    k_ind = np.mgrid[:size, :size] - int( (size + 1)/2 )\n",
    "    k_ind = scipy.fftpack.fftshift(k_ind)\n",
    "    return( k_ind )\n",
    "\n",
    "def gaussian_random_field(alpha = 10.0,\n",
    "                          size = 3, \n",
    "                          flag_normalize = True):\n",
    "    \"\"\" Returns a np array of shifted Fourier coordinates k_x k_y.\n",
    "        \n",
    "        Input args:\n",
    "            alpha (double, default = 3.0): \n",
    "                The power of the power-law momentum distribution\n",
    "            size (integer, default = 128):\n",
    "                The size of the square output Gaussian Random Fields\n",
    "            flag_normalize (boolean, default = True):\n",
    "                Normalizes the Gaussian Field:\n",
    "                    - to have an average of 0.0\n",
    "                    - to have a standard deviation of 1.0\n",
    "\n",
    "        Returns:\n",
    "            gfield (np array of shape (size, size)):\n",
    "                The random gaussian random field\n",
    "                \n",
    "        Example:\n",
    "        import matplotlib\n",
    "        import matplotlib.pyplot as plt\n",
    "        example = gaussian_random_field()\n",
    "        plt.imshow(example)\n",
    "        \"\"\"\n",
    "        \n",
    "        # Defines momentum indices\n",
    "    k_idx = fftind(size)\n",
    "\n",
    "        # Defines the amplitude as a power law 1/|k|^(alpha/2)\n",
    "    amplitude = np.power( k_idx[0]**2 + k_idx[1]**2 + 1e-10, -alpha/4.0 )\n",
    "    amplitude[0,0] = 0\n",
    "    \n",
    "        # Draws a complex gaussian random noise with normal\n",
    "        # (circular) distribution\n",
    "    noise = np.random.normal(size = (size, size)) \\\n",
    "        + 1j * np.random.normal(size = (size, size))\n",
    "    \n",
    "        # To real space\n",
    "    gfield = np.fft.ifft2(noise * amplitude).real\n",
    "    \n",
    "        # Sets the standard deviation to one\n",
    "    if flag_normalize:\n",
    "        gfield = gfield - np.mean(gfield)\n",
    "        gfield = gfield/np.std(gfield)\n",
    "        \n",
    "    return gfield"
   ]
  },
  {
   "cell_type": "code",
   "execution_count": 20,
   "metadata": {},
   "outputs": [
    {
     "data": {
      "image/png": "[encoded data removed]",
      "text/plain": [
       "<Figure size 640x480 with 1 Axes>"
      ]
     },
     "metadata": {},
     "output_type": "display_data"
    },
    {
     "data": {
      "text/plain": [
       "(3, 3)"
      ]
     },
     "execution_count": 20,
     "metadata": {},
     "output_type": "execute_result"
    }
   ],
   "source": [
    "import matplotlib\n",
    "import matplotlib.pyplot as plt\n",
    "example = gaussian_random_field()\n",
    "plt.imshow(example, cmap='gray')\n",
    "plt.show()\n",
    "example.shape"
   ]
  },
  {
   "cell_type": "code",
   "execution_count": 21,
   "metadata": {},
   "outputs": [
    {
     "data": {
      "text/plain": [
       "array([[ 0.51048075, -1.3591392 , -0.83406963],\n",
       "       [ 0.54100506, -1.15942948, -0.56067401],\n",
       "       [ 1.93702543,  0.28148159,  0.64331949]])"
      ]
     },
     "execution_count": 21,
     "metadata": {},
     "output_type": "execute_result"
    }
   ],
   "source": [
    "example"
   ]
  },
  {
   "cell_type": "code",
   "execution_count": 71,
   "metadata": {},
   "outputs": [
    {
     "data": {
      "text/plain": [
       "(4, 9, 3, 3)"
      ]
     },
     "execution_count": 71,
     "metadata": {},
     "output_type": "execute_result"
    }
   ],
   "source": [
    "def GRF_wrapper(a):\n",
    "    return gaussian_random_field()\n",
    "\n",
    "\n",
    "\n",
    "GRF_nums =  (3**2)\n",
    "offset_place_holder = np.zeros((4, GRF_nums,1))\n",
    "offset = np.apply_along_axis(GRF_wrapper, 2, offset_place_holder)\n",
    "offset.shape\n"
   ]
  },
  {
   "cell_type": "code",
   "execution_count": 62,
   "metadata": {},
   "outputs": [
    {
     "data": {
      "text/plain": [
       "torch.Size([1, 2, 3, 3])"
      ]
     },
     "execution_count": 62,
     "metadata": {},
     "output_type": "execute_result"
    }
   ],
   "source": [
    "import torch\n",
    "x = torch.tensor([[\n",
    "    [\n",
    "        [1,2,3],\n",
    "        [4,5,6],\n",
    "        [7,8,9]\n",
    "    ],\n",
    "    [\n",
    "        [1,1,1],\n",
    "        [1,1,1],\n",
    "        [1,1,1]\n",
    "    ],\n",
    "    ]]).float()\n",
    "x.shape\n",
    "# (x - x.mean([2, 3])) / x.std([2, 3])"
   ]
  },
  {
   "cell_type": "code",
   "execution_count": 69,
   "metadata": {},
   "outputs": [
    {
     "ename": "RuntimeError",
     "evalue": "The size of tensor a (3) must match the size of tensor b (2) at non-singleton dimension 3",
     "output_type": "error",
     "traceback": [
      "\u001b[0;31m---------------------------------------------------------------------------\u001b[0m",
      "\u001b[0;31mRuntimeError\u001b[0m                              Traceback (most recent call last)",
      "Cell \u001b[0;32mIn[69], line 1\u001b[0m\n\u001b[0;32m----> 1\u001b[0m x[:]\u001b[39m-\u001b[39;49mx\u001b[39m.\u001b[39;49mmean([\u001b[39m2\u001b[39;49m, \u001b[39m3\u001b[39;49m])\n",
      "\u001b[0;31mRuntimeError\u001b[0m: The size of tensor a (3) must match the size of tensor b (2) at non-singleton dimension 3"
     ]
    }
   ],
   "source": [
    "x[:]-x.mean([2, 3])\n"
   ]
  },
  {
   "cell_type": "code",
   "execution_count": 57,
   "metadata": {},
   "outputs": [
    {
     "data": {
      "text/plain": [
       "tensor(7.5000)"
      ]
     },
     "execution_count": 57,
     "metadata": {},
     "output_type": "execute_result"
    }
   ],
   "source": [
    "torch.var(torch.tensor([\n",
    "        [1,2,3],\n",
    "        [4,5,6],\n",
    "        [7,8,9]\n",
    "    ]).float())"
   ]
  },
  {
   "cell_type": "code",
   "execution_count": 59,
   "metadata": {},
   "outputs": [
    {
     "data": {
      "text/plain": [
       "tensor(7.5000)"
      ]
     },
     "execution_count": 59,
     "metadata": {},
     "output_type": "execute_result"
    }
   ],
   "source": [
    "torch.var(torch.tensor([1,2,3,4,5,6,7,8,9]).float())"
   ]
  },
  {
   "cell_type": "code",
   "execution_count": 72,
   "metadata": {},
   "outputs": [
    {
     "name": "stdout",
     "output_type": "stream",
     "text": [
      "x after conv shape  torch.Size([64, 3, 244, 244])\n"
     ]
    },
    {
     "ename": "RuntimeError",
     "evalue": "The size of tensor a (244) must match the size of tensor b (3) at non-singleton dimension 3",
     "output_type": "error",
     "traceback": [
      "\u001b[0;31m---------------------------------------------------------------------------\u001b[0m",
      "\u001b[0;31mRuntimeError\u001b[0m                              Traceback (most recent call last)",
      "Cell \u001b[0;32mIn[72], line 7\u001b[0m\n\u001b[1;32m      3\u001b[0m \u001b[39mprint\u001b[39m(\u001b[39m\"\u001b[39m\u001b[39mx after conv shape \u001b[39m\u001b[39m\"\u001b[39m, x\u001b[39m.\u001b[39mshape)\n\u001b[1;32m      4\u001b[0m transform_norm \u001b[39m=\u001b[39m transforms\u001b[39m.\u001b[39mCompose([\n\u001b[1;32m      5\u001b[0m     transforms\u001b[39m.\u001b[39mNormalize(x\u001b[39m.\u001b[39mmean([\u001b[39m2\u001b[39m, \u001b[39m3\u001b[39m]), x\u001b[39m.\u001b[39mstd([\u001b[39m2\u001b[39m, \u001b[39m3\u001b[39m]))\n\u001b[1;32m      6\u001b[0m ])\n\u001b[0;32m----> 7\u001b[0m x \u001b[39m=\u001b[39m transform_norm(x)\n",
      "File \u001b[0;32m/opt/conda/lib/python3.10/site-packages/torchvision/transforms/transforms.py:95\u001b[0m, in \u001b[0;36mCompose.__call__\u001b[0;34m(self, img)\u001b[0m\n\u001b[1;32m     93\u001b[0m \u001b[39mdef\u001b[39;00m \u001b[39m__call__\u001b[39m(\u001b[39mself\u001b[39m, img):\n\u001b[1;32m     94\u001b[0m     \u001b[39mfor\u001b[39;00m t \u001b[39min\u001b[39;00m \u001b[39mself\u001b[39m\u001b[39m.\u001b[39mtransforms:\n\u001b[0;32m---> 95\u001b[0m         img \u001b[39m=\u001b[39m t(img)\n\u001b[1;32m     96\u001b[0m     \u001b[39mreturn\u001b[39;00m img\n",
      "File \u001b[0;32m/opt/conda/lib/python3.10/site-packages/torch/nn/modules/module.py:1501\u001b[0m, in \u001b[0;36mModule._call_impl\u001b[0;34m(self, *args, **kwargs)\u001b[0m\n\u001b[1;32m   1496\u001b[0m \u001b[39m# If we don't have any hooks, we want to skip the rest of the logic in\u001b[39;00m\n\u001b[1;32m   1497\u001b[0m \u001b[39m# this function, and just call forward.\u001b[39;00m\n\u001b[1;32m   1498\u001b[0m \u001b[39mif\u001b[39;00m \u001b[39mnot\u001b[39;00m (\u001b[39mself\u001b[39m\u001b[39m.\u001b[39m_backward_hooks \u001b[39mor\u001b[39;00m \u001b[39mself\u001b[39m\u001b[39m.\u001b[39m_backward_pre_hooks \u001b[39mor\u001b[39;00m \u001b[39mself\u001b[39m\u001b[39m.\u001b[39m_forward_hooks \u001b[39mor\u001b[39;00m \u001b[39mself\u001b[39m\u001b[39m.\u001b[39m_forward_pre_hooks\n\u001b[1;32m   1499\u001b[0m         \u001b[39mor\u001b[39;00m _global_backward_pre_hooks \u001b[39mor\u001b[39;00m _global_backward_hooks\n\u001b[1;32m   1500\u001b[0m         \u001b[39mor\u001b[39;00m _global_forward_hooks \u001b[39mor\u001b[39;00m _global_forward_pre_hooks):\n\u001b[0;32m-> 1501\u001b[0m     \u001b[39mreturn\u001b[39;00m forward_call(\u001b[39m*\u001b[39;49margs, \u001b[39m*\u001b[39;49m\u001b[39m*\u001b[39;49mkwargs)\n\u001b[1;32m   1502\u001b[0m \u001b[39m# Do not call functions when jit is used\u001b[39;00m\n\u001b[1;32m   1503\u001b[0m full_backward_hooks, non_full_backward_hooks \u001b[39m=\u001b[39m [], []\n",
      "File \u001b[0;32m/opt/conda/lib/python3.10/site-packages/torchvision/transforms/transforms.py:277\u001b[0m, in \u001b[0;36mNormalize.forward\u001b[0;34m(self, tensor)\u001b[0m\n\u001b[1;32m    269\u001b[0m \u001b[39mdef\u001b[39;00m \u001b[39mforward\u001b[39m(\u001b[39mself\u001b[39m, tensor: Tensor) \u001b[39m-\u001b[39m\u001b[39m>\u001b[39m Tensor:\n\u001b[1;32m    270\u001b[0m \u001b[39m    \u001b[39m\u001b[39m\"\"\"\u001b[39;00m\n\u001b[1;32m    271\u001b[0m \u001b[39m    Args:\u001b[39;00m\n\u001b[1;32m    272\u001b[0m \u001b[39m        tensor (Tensor): Tensor image to be normalized.\u001b[39;00m\n\u001b[0;32m   (...)\u001b[0m\n\u001b[1;32m    275\u001b[0m \u001b[39m        Tensor: Normalized Tensor image.\u001b[39;00m\n\u001b[1;32m    276\u001b[0m \u001b[39m    \"\"\"\u001b[39;00m\n\u001b[0;32m--> 277\u001b[0m     \u001b[39mreturn\u001b[39;00m F\u001b[39m.\u001b[39;49mnormalize(tensor, \u001b[39mself\u001b[39;49m\u001b[39m.\u001b[39;49mmean, \u001b[39mself\u001b[39;49m\u001b[39m.\u001b[39;49mstd, \u001b[39mself\u001b[39;49m\u001b[39m.\u001b[39;49minplace)\n",
      "File \u001b[0;32m/opt/conda/lib/python3.10/site-packages/torchvision/transforms/functional.py:363\u001b[0m, in \u001b[0;36mnormalize\u001b[0;34m(tensor, mean, std, inplace)\u001b[0m\n\u001b[1;32m    360\u001b[0m \u001b[39mif\u001b[39;00m \u001b[39mnot\u001b[39;00m \u001b[39misinstance\u001b[39m(tensor, torch\u001b[39m.\u001b[39mTensor):\n\u001b[1;32m    361\u001b[0m     \u001b[39mraise\u001b[39;00m \u001b[39mTypeError\u001b[39;00m(\u001b[39mf\u001b[39m\u001b[39m\"\u001b[39m\u001b[39mimg should be Tensor Image. Got \u001b[39m\u001b[39m{\u001b[39;00m\u001b[39mtype\u001b[39m(tensor)\u001b[39m}\u001b[39;00m\u001b[39m\"\u001b[39m)\n\u001b[0;32m--> 363\u001b[0m \u001b[39mreturn\u001b[39;00m F_t\u001b[39m.\u001b[39;49mnormalize(tensor, mean\u001b[39m=\u001b[39;49mmean, std\u001b[39m=\u001b[39;49mstd, inplace\u001b[39m=\u001b[39;49minplace)\n",
      "File \u001b[0;32m/opt/conda/lib/python3.10/site-packages/torchvision/transforms/_functional_tensor.py:928\u001b[0m, in \u001b[0;36mnormalize\u001b[0;34m(tensor, mean, std, inplace)\u001b[0m\n\u001b[1;32m    926\u001b[0m \u001b[39mif\u001b[39;00m std\u001b[39m.\u001b[39mndim \u001b[39m==\u001b[39m \u001b[39m1\u001b[39m:\n\u001b[1;32m    927\u001b[0m     std \u001b[39m=\u001b[39m std\u001b[39m.\u001b[39mview(\u001b[39m-\u001b[39m\u001b[39m1\u001b[39m, \u001b[39m1\u001b[39m, \u001b[39m1\u001b[39m)\n\u001b[0;32m--> 928\u001b[0m \u001b[39mreturn\u001b[39;00m tensor\u001b[39m.\u001b[39;49msub_(mean)\u001b[39m.\u001b[39mdiv_(std)\n",
      "\u001b[0;31mRuntimeError\u001b[0m: The size of tensor a (244) must match the size of tensor b (3) at non-singleton dimension 3"
     ]
    }
   ],
   "source": [
    "from torchvision import transforms\n",
    "x = torch.rand([64,3, 244, 244])\n",
    "print(\"x after conv shape \", x.shape)\n",
    "transform_norm = transforms.Compose([\n",
    "    transforms.Normalize(x.mean([2, 3]), x.std([2, 3]))\n",
    "])\n",
    "x = transform_norm(x)"
   ]
  },
  {
   "cell_type": "code",
   "execution_count": 79,
   "metadata": {},
   "outputs": [
    {
     "data": {
      "text/plain": [
       "torch.Size([64, 3])"
      ]
     },
     "execution_count": 79,
     "metadata": {},
     "output_type": "execute_result"
    }
   ],
   "source": [
    "x.mean(dim=[2, 3]).shape"
   ]
  },
  {
   "cell_type": "code",
   "execution_count": null,
   "metadata": {},
   "outputs": [],
   "source": []
  }
 ],
 "metadata": {
  "kernelspec": {
   "display_name": "base",
   "language": "python",
   "name": "python3"
  },
  "language_info": {
   "codemirror_mode": {
    "name": "ipython",
    "version": 3
   },
   "file_extension": ".py",
   "mimetype": "text/x-python",
   "name": "python",
   "nbconvert_exporter": "python",
   "pygments_lexer": "ipython3",
   "version": "3.10.11"
  },
  "orig_nbformat": 4,
  "vscode": {
   "interpreter": {
    "hash": "d4d1e4263499bec80672ea0156c357c1ee493ec2b1c70f0acce89fc37c4a6abe"
   }
  }
 },
 "nbformat": 4,
 "nbformat_minor": 2
}
